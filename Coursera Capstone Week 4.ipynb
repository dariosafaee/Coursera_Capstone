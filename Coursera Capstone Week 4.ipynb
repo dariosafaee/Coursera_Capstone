{
 "cells": [
  {
   "cell_type": "markdown",
   "metadata": {},
   "source": [
    "# Coursera Data Science Capstone (Week 4)"
   ]
  },
  {
   "cell_type": "markdown",
   "metadata": {},
   "source": [
    "# 1. Introduction"
   ]
  },
  {
   "cell_type": "markdown",
   "metadata": {},
   "source": [
    "With a population of over 37 million people, Tokyo, is the most populated metropolitan area in the world. Modern, stylish and full of culture, the city of Tokyo provides many opportunity for entrepreneurs to open new businesses. \n",
    "\n",
    "The cinema industry has been incredibly resilient for more than a century, and according to the Financial Times, in 2019, global cinema box office reached a new high of over $42bn. Over the last decades, the global industry sales have steadily increased. However, the main driver of this is likely the steady increase in ticket prices, rather than an increase in attendance. In fact, if we look at the US, the number of tickets purchased in 2019 was roughly 1.26 billion, which is the lowest attendance since 2011. It is however worth considering that while attendace is dropping in North America, the numbers overseas continue to rise, especially in Asia. In addition, certain experiences such as those provided by IMAX, cannot be recreated at home. "
   ]
  },
  {
   "cell_type": "markdown",
   "metadata": {},
   "source": [
    "### 1.1. Business Problem"
   ]
  },
  {
   "cell_type": "markdown",
   "metadata": {},
   "source": [
    "The objective of this project is to find the best location to open a new movie theater. In order to find the best location, we'll look at the areas with the lowest concentration of cinemas but a high concentration of what we can define as \"complementary\" venues. These are places that are generally visited in conjunction with movie theathers.\n",
    "\n",
    "Restaurants can undoubtedly be considered as such \"complementary\" venues. People love to go out and take a bite before going to watch the latest movie at the cinema, and for this reason many restaurants often offer menu deals with tickets to the movie theather next door. \n",
    "\n",
    "For the purpose of this project, we'll be looking at areas with a high concentration of Italian Restaurants. Italian food, or its fusion with Japanese food, Itameshi, has been one of the most loved cuisines by Japanese people since the 1990s. "
   ]
  },
  {
   "cell_type": "markdown",
   "metadata": {},
   "source": [
    "### 1.2. Target Audience"
   ]
  },
  {
   "cell_type": "markdown",
   "metadata": {},
   "source": [
    "This analysis can be useful for:\n",
    "    1. Entrepreneurs looking to open a new business\n",
    "    2. Local cinema companies looking to expand in a new area\n",
    "    3. Foreign cinema companies looking to expand in a new territory with little competition"
   ]
  },
  {
   "cell_type": "markdown",
   "metadata": {},
   "source": [
    "## 2. Data Requirements and Sources"
   ]
  },
  {
   "cell_type": "markdown",
   "metadata": {},
   "source": [
    "### 2.1 Data Requirements"
   ]
  },
  {
   "cell_type": "markdown",
   "metadata": {},
   "source": [
    "To complete the analysis, we require the following data:\n",
    "    1. List of neighborhoods in Tokyo\n",
    "    2. Geographical coordinates of the neighborhoods to plot the data on a map\n",
    "    3. Tokyo movie theathers data\n",
    "    4. Tokyo Italian restaurants data"
   ]
  },
  {
   "cell_type": "markdown",
   "metadata": {},
   "source": [
    "### 2.2 Data Sources"
   ]
  },
  {
   "cell_type": "markdown",
   "metadata": {},
   "source": [
    "The list of neighborhoods in Tokyo will be extracted from [this](https://en.wikipedia.org/wiki/Category:Neighborhoods_of_Tokyo) Wikipedia page.\n",
    "The latitude and longitude coordinates of the neighborhoods, as well as the data for movie theathers and Italian restaurants, will be retrieved using the FourSquare API."
   ]
  }
 ],
 "metadata": {
  "kernelspec": {
   "display_name": "Python 3",
   "language": "python",
   "name": "python3"
  },
  "language_info": {
   "codemirror_mode": {
    "name": "ipython",
    "version": 3
   },
   "file_extension": ".py",
   "mimetype": "text/x-python",
   "name": "python",
   "nbconvert_exporter": "python",
   "pygments_lexer": "ipython3",
   "version": "3.7.4"
  }
 },
 "nbformat": 4,
 "nbformat_minor": 2
}
